{
 "cells": [
  {
   "cell_type": "code",
   "execution_count": 12,
   "metadata": {},
   "outputs": [
    {
     "data": {
      "text/html": [
       "<div>\n",
       "<style scoped>\n",
       "    .dataframe tbody tr th:only-of-type {\n",
       "        vertical-align: middle;\n",
       "    }\n",
       "\n",
       "    .dataframe tbody tr th {\n",
       "        vertical-align: top;\n",
       "    }\n",
       "\n",
       "    .dataframe thead th {\n",
       "        text-align: right;\n",
       "    }\n",
       "</style>\n",
       "<table border=\"1\" class=\"dataframe\">\n",
       "  <thead>\n",
       "    <tr style=\"text-align: right;\">\n",
       "      <th></th>\n",
       "      <th>OBJECTID</th>\n",
       "      <th>GEOID10</th>\n",
       "      <th>GEOID20</th>\n",
       "      <th>STATEFP</th>\n",
       "      <th>COUNTYFP</th>\n",
       "      <th>TRACTCE</th>\n",
       "      <th>BLKGRPCE</th>\n",
       "      <th>CSA</th>\n",
       "      <th>CSA_Name</th>\n",
       "      <th>CBSA</th>\n",
       "      <th>...</th>\n",
       "      <th>D5DRI</th>\n",
       "      <th>D5DE</th>\n",
       "      <th>D5DEI</th>\n",
       "      <th>D2A_Ranked</th>\n",
       "      <th>D2B_Ranked</th>\n",
       "      <th>D3B_Ranked</th>\n",
       "      <th>D4A_Ranked</th>\n",
       "      <th>NatWalkInd</th>\n",
       "      <th>Shape_Length</th>\n",
       "      <th>Shape_Area</th>\n",
       "    </tr>\n",
       "  </thead>\n",
       "  <tbody>\n",
       "    <tr>\n",
       "      <th>0</th>\n",
       "      <td>1</td>\n",
       "      <td>4.810000e+11</td>\n",
       "      <td>4.810000e+11</td>\n",
       "      <td>48</td>\n",
       "      <td>113</td>\n",
       "      <td>7825</td>\n",
       "      <td>4</td>\n",
       "      <td>206.0</td>\n",
       "      <td>Dallas-Fort Worth, TX-OK</td>\n",
       "      <td>19100.0</td>\n",
       "      <td>...</td>\n",
       "      <td>0.184697</td>\n",
       "      <td>0.000476</td>\n",
       "      <td>0.137707</td>\n",
       "      <td>6</td>\n",
       "      <td>14</td>\n",
       "      <td>15</td>\n",
       "      <td>17</td>\n",
       "      <td>14.000000</td>\n",
       "      <td>3110.360820</td>\n",
       "      <td>297836.0831</td>\n",
       "    </tr>\n",
       "    <tr>\n",
       "      <th>1</th>\n",
       "      <td>2</td>\n",
       "      <td>4.810000e+11</td>\n",
       "      <td>4.810000e+11</td>\n",
       "      <td>48</td>\n",
       "      <td>113</td>\n",
       "      <td>7825</td>\n",
       "      <td>2</td>\n",
       "      <td>206.0</td>\n",
       "      <td>Dallas-Fort Worth, TX-OK</td>\n",
       "      <td>19100.0</td>\n",
       "      <td>...</td>\n",
       "      <td>0.323221</td>\n",
       "      <td>0.000801</td>\n",
       "      <td>0.231868</td>\n",
       "      <td>3</td>\n",
       "      <td>10</td>\n",
       "      <td>12</td>\n",
       "      <td>14</td>\n",
       "      <td>10.833333</td>\n",
       "      <td>3519.469110</td>\n",
       "      <td>484945.1466</td>\n",
       "    </tr>\n",
       "    <tr>\n",
       "      <th>2</th>\n",
       "      <td>3</td>\n",
       "      <td>4.810000e+11</td>\n",
       "      <td>4.810000e+11</td>\n",
       "      <td>48</td>\n",
       "      <td>113</td>\n",
       "      <td>7825</td>\n",
       "      <td>3</td>\n",
       "      <td>206.0</td>\n",
       "      <td>Dallas-Fort Worth, TX-OK</td>\n",
       "      <td>19100.0</td>\n",
       "      <td>...</td>\n",
       "      <td>0.314628</td>\n",
       "      <td>0.000736</td>\n",
       "      <td>0.213146</td>\n",
       "      <td>1</td>\n",
       "      <td>1</td>\n",
       "      <td>7</td>\n",
       "      <td>17</td>\n",
       "      <td>8.333333</td>\n",
       "      <td>1697.091802</td>\n",
       "      <td>106705.9281</td>\n",
       "    </tr>\n",
       "    <tr>\n",
       "      <th>3</th>\n",
       "      <td>4</td>\n",
       "      <td>4.810000e+11</td>\n",
       "      <td>4.810000e+11</td>\n",
       "      <td>48</td>\n",
       "      <td>113</td>\n",
       "      <td>7824</td>\n",
       "      <td>1</td>\n",
       "      <td>206.0</td>\n",
       "      <td>Dallas-Fort Worth, TX-OK</td>\n",
       "      <td>19100.0</td>\n",
       "      <td>...</td>\n",
       "      <td>0.229821</td>\n",
       "      <td>0.000708</td>\n",
       "      <td>0.205018</td>\n",
       "      <td>16</td>\n",
       "      <td>10</td>\n",
       "      <td>17</td>\n",
       "      <td>17</td>\n",
       "      <td>15.666667</td>\n",
       "      <td>2922.609204</td>\n",
       "      <td>481828.4303</td>\n",
       "    </tr>\n",
       "    <tr>\n",
       "      <th>4</th>\n",
       "      <td>5</td>\n",
       "      <td>4.810000e+11</td>\n",
       "      <td>4.810000e+11</td>\n",
       "      <td>48</td>\n",
       "      <td>113</td>\n",
       "      <td>7824</td>\n",
       "      <td>2</td>\n",
       "      <td>206.0</td>\n",
       "      <td>Dallas-Fort Worth, TX-OK</td>\n",
       "      <td>19100.0</td>\n",
       "      <td>...</td>\n",
       "      <td>0.164863</td>\n",
       "      <td>0.000433</td>\n",
       "      <td>0.125296</td>\n",
       "      <td>4</td>\n",
       "      <td>7</td>\n",
       "      <td>11</td>\n",
       "      <td>14</td>\n",
       "      <td>10.166667</td>\n",
       "      <td>3731.971773</td>\n",
       "      <td>687684.7752</td>\n",
       "    </tr>\n",
       "  </tbody>\n",
       "</table>\n",
       "<p>5 rows × 117 columns</p>\n",
       "</div>"
      ],
      "text/plain": [
       "   OBJECTID       GEOID10       GEOID20  STATEFP  COUNTYFP  TRACTCE  BLKGRPCE  \\\n",
       "0         1  4.810000e+11  4.810000e+11       48       113     7825         4   \n",
       "1         2  4.810000e+11  4.810000e+11       48       113     7825         2   \n",
       "2         3  4.810000e+11  4.810000e+11       48       113     7825         3   \n",
       "3         4  4.810000e+11  4.810000e+11       48       113     7824         1   \n",
       "4         5  4.810000e+11  4.810000e+11       48       113     7824         2   \n",
       "\n",
       "     CSA                  CSA_Name     CBSA  ...     D5DRI      D5DE  \\\n",
       "0  206.0  Dallas-Fort Worth, TX-OK  19100.0  ...  0.184697  0.000476   \n",
       "1  206.0  Dallas-Fort Worth, TX-OK  19100.0  ...  0.323221  0.000801   \n",
       "2  206.0  Dallas-Fort Worth, TX-OK  19100.0  ...  0.314628  0.000736   \n",
       "3  206.0  Dallas-Fort Worth, TX-OK  19100.0  ...  0.229821  0.000708   \n",
       "4  206.0  Dallas-Fort Worth, TX-OK  19100.0  ...  0.164863  0.000433   \n",
       "\n",
       "      D5DEI  D2A_Ranked  D2B_Ranked  D3B_Ranked  D4A_Ranked  NatWalkInd  \\\n",
       "0  0.137707           6          14          15          17   14.000000   \n",
       "1  0.231868           3          10          12          14   10.833333   \n",
       "2  0.213146           1           1           7          17    8.333333   \n",
       "3  0.205018          16          10          17          17   15.666667   \n",
       "4  0.125296           4           7          11          14   10.166667   \n",
       "\n",
       "   Shape_Length   Shape_Area  \n",
       "0   3110.360820  297836.0831  \n",
       "1   3519.469110  484945.1466  \n",
       "2   1697.091802  106705.9281  \n",
       "3   2922.609204  481828.4303  \n",
       "4   3731.971773  687684.7752  \n",
       "\n",
       "[5 rows x 117 columns]"
      ]
     },
     "execution_count": 12,
     "metadata": {},
     "output_type": "execute_result"
    }
   ],
   "source": [
    "import pandas as pd\n",
    "from sklearn.ensemble import RandomForestRegressor\n",
    "from sklearn.model_selection import train_test_split\n",
    "from sklearn.metrics import mean_absolute_error, mean_squared_error, r2_score\n",
    "from sklearn.ensemble import RandomForestRegressor\n",
    "from sklearn.preprocessing import StandardScaler\n",
    "\n",
    "df=pd.read_csv(\"EPA_SmartLocationDatabase_V3_Jan_2021_Final (4).csv\")\n",
    "df.head()"
   ]
  },
  {
   "cell_type": "code",
   "execution_count": 2,
   "metadata": {},
   "outputs": [],
   "source": [
    "df = df.drop(['CSA_Name', 'CBSA_Name'], axis=1)"
   ]
  },
  {
   "cell_type": "code",
   "execution_count": 3,
   "metadata": {},
   "outputs": [],
   "source": [
    "y = df[['NatWalkInd']]  # Target variable\n",
    "x = df.drop('NatWalkInd', axis=1)  # Feature matrix without the target variable\n"
   ]
  },
  {
   "cell_type": "code",
   "execution_count": 4,
   "metadata": {},
   "outputs": [],
   "source": [
    "x_train, x_test, y_train, y_test = train_test_split(x, y, random_state=78)"
   ]
  },
  {
   "cell_type": "code",
   "execution_count": 5,
   "metadata": {},
   "outputs": [],
   "source": [
    "scaler = StandardScaler()\n",
    "x_train_scaled = scaler.fit_transform(x_train)\n",
    "x_test_scaled = scaler.transform(x_test)"
   ]
  },
  {
   "cell_type": "code",
   "execution_count": 9,
   "metadata": {},
   "outputs": [],
   "source": [
    "rf_model = RandomForestRegressor(n_estimators=100,  # Reduced number of trees\n",
    "                                  max_depth=10,      # Limiting tree depth\n",
    "                                  n_jobs=-1,         # Use all available cores\n",
    "                                  random_state=78)"
   ]
  },
  {
   "cell_type": "code",
   "execution_count": 10,
   "metadata": {},
   "outputs": [],
   "source": [
    "rf_model = rf_model.fit(x_train_scaled, y_train.values.ravel())"
   ]
  },
  {
   "cell_type": "code",
   "execution_count": 11,
   "metadata": {},
   "outputs": [],
   "source": [
    "predictions = rf_model.predict(x_test_scaled)"
   ]
  },
  {
   "cell_type": "code",
   "execution_count": 13,
   "metadata": {},
   "outputs": [
    {
     "name": "stdout",
     "output_type": "stream",
     "text": [
      "Mean Absolute Error (MAE): 0.22941490904380868\n",
      "Mean Squared Error (MSE): 0.09257641391240828\n",
      "R-squared (R²): 0.9951639487376414\n"
     ]
    }
   ],
   "source": [
    "# Predictions on the test set\n",
    "y_pred = rf_model.predict(x_test_scaled)\n",
    "\n",
    "# Evaluate the model\n",
    "mae = mean_absolute_error(y_test, y_pred)\n",
    "mse = mean_squared_error(y_test, y_pred)\n",
    "r2 = r2_score(y_test, y_pred)\n",
    "\n",
    "print(f\"Mean Absolute Error (MAE): {mae}\")\n",
    "print(f\"Mean Squared Error (MSE): {mse}\")\n",
    "print(f\"R-squared (R²): {r2}\")"
   ]
  },
  {
   "cell_type": "code",
   "execution_count": 14,
   "metadata": {},
   "outputs": [
    {
     "name": "stdout",
     "output_type": "stream",
     "text": [
      "       Feature    Importance\n",
      "98        D5BR  5.735903e-01\n",
      "99        D5BE  1.259468e-01\n",
      "51         D1C  1.029817e-01\n",
      "84         D3B  7.946083e-02\n",
      "71  D2B_E8MIXA  5.931546e-02\n",
      "..         ...           ...\n",
      "11    CBSA_WRK  1.328212e-07\n",
      "3      STATEFP  1.311899e-07\n",
      "6     BLKGRPCE  1.159029e-07\n",
      "95         D4E  1.131408e-07\n",
      "91      D4B025  5.908568e-08\n",
      "\n",
      "[114 rows x 2 columns]\n"
     ]
    }
   ],
   "source": [
    "feature_importances = rf_model.feature_importances_\n",
    "features = x_train.columns\n",
    "importance_df = pd.DataFrame({'Feature': features, 'Importance': feature_importances}).sort_values(by='Importance', ascending=False)\n",
    "\n",
    "print(importance_df)"
   ]
  },
  {
   "cell_type": "code",
   "execution_count": null,
   "metadata": {},
   "outputs": [],
   "source": []
  }
 ],
 "metadata": {
  "kernelspec": {
   "display_name": "base",
   "language": "python",
   "name": "python3"
  },
  "language_info": {
   "codemirror_mode": {
    "name": "ipython",
    "version": 3
   },
   "file_extension": ".py",
   "mimetype": "text/x-python",
   "name": "python",
   "nbconvert_exporter": "python",
   "pygments_lexer": "ipython3",
   "version": "3.11.5"
  }
 },
 "nbformat": 4,
 "nbformat_minor": 2
}
